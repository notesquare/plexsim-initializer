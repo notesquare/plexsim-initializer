{
 "cells": [
  {
   "cell_type": "markdown",
   "id": "7b6d1faa-405f-450b-92ed-d629de97b145",
   "metadata": {},
   "source": [
    "## Valid Node Coords"
   ]
  },
  {
   "cell_type": "code",
   "execution_count": null,
   "id": "50521c67-ffaa-426b-94c8-0b30a11d7f72",
   "metadata": {
    "tags": []
   },
   "outputs": [],
   "source": [
    "import numpy as np\n",
    "\n",
    "grid_shape = np.array([70, 70, 32])\n",
    "R = 35\n",
    "r = 3\n",
    "\n",
    "node_center = (grid_shape[0]/2, grid_shape[1]/2)"
   ]
  },
  {
   "cell_type": "code",
   "execution_count": null,
   "id": "cbe58a87-615a-4b63-a9d4-441a38b9b953",
   "metadata": {
    "tags": []
   },
   "outputs": [],
   "source": [
    "from itertools import product\n",
    "\n",
    "node_coords = np.array(list(product(range(grid_shape[0] + 1),\n",
    "                                    range(grid_shape[1] + 1))))\n",
    "\n",
    "dist_from_center = np.linalg.norm(node_coords - node_center, axis=1)\n",
    "\n",
    "valid_node_mask = (dist_from_center >= r+1) & (dist_from_center <= R)\n",
    "\n",
    "valid_node_coords_2d = node_coords[valid_node_mask]\n",
    "valid_node_coords_2d"
   ]
  },
  {
   "cell_type": "markdown",
   "id": "68797eac-95d9-4b3f-a33a-127c97a74fcf",
   "metadata": {},
   "source": [
    "## Valid Cell Coords"
   ]
  },
  {
   "cell_type": "code",
   "execution_count": null,
   "id": "d62ef687-5fe9-413d-a5fd-d33205daf80d",
   "metadata": {
    "tags": []
   },
   "outputs": [],
   "source": [
    "from numba import njit\n",
    "\n",
    "\n",
    "surrounding_nodes = np.array([\n",
    "    [0, 0],\n",
    "    [0, 1],\n",
    "    [1, 0],\n",
    "    [1, 1]]\n",
    ")\n",
    "\n",
    "@njit\n",
    "def check_valid_cells(cell_coords, valid_node_coords, mask):\n",
    "    # cell center 주위의 4개 node가 valid_node_coords에 모두 포함되어 있는지 확인\n",
    "    for i, cell_coord in enumerate(cell_coords):\n",
    "        surrounding_node_coords = cell_coord + surrounding_nodes\n",
    "        flag = True\n",
    "        for node_coord in surrounding_node_coords:\n",
    "            x, y = node_coord\n",
    "            valid = valid_node_coords[\n",
    "                (valid_node_coords[:, 0] == x) & (valid_node_coords[:, 1] == y)\n",
    "            ].any()\n",
    "\n",
    "            if not valid:\n",
    "                flag = False\n",
    "                break\n",
    "        mask[i] = flag"
   ]
  },
  {
   "cell_type": "code",
   "execution_count": null,
   "id": "e02be9b1-26fb-4bdf-b154-f991b9eeaffb",
   "metadata": {
    "tags": []
   },
   "outputs": [],
   "source": [
    "cell_coords = np.array(list(product(range(grid_shape[0]),\n",
    "                                    range(grid_shape[1]))))\n",
    "\n",
    "valid_cell_mask = np.empty(cell_coords.shape[0], dtype=bool)\n",
    "valid_cell_mask\n",
    "\n",
    "check_valid_cells(cell_coords, valid_node_coords_2d, valid_cell_mask)\n",
    "\n",
    "cell_coords[valid_cell_mask]"
   ]
  },
  {
   "cell_type": "code",
   "execution_count": null,
   "id": "5f02677c-56d4-4439-88bd-e24cf82015b4",
   "metadata": {},
   "outputs": [],
   "source": [
    "valid_cells = np.array(list((x, y, z) for (x, y), z in product(\n",
    "    cell_coords[valid_cell_mask],\n",
    "    range(grid_shape[2])\n",
    ")))\n",
    "np.save('valid_cell_coords.npy', valid_cells)"
   ]
  },
  {
   "cell_type": "markdown",
   "id": "8706de24-7318-4dda-8cee-87e1110e3b5e",
   "metadata": {},
   "source": [
    "## Fixed Field Boundary"
   ]
  },
  {
   "cell_type": "markdown",
   "id": "e15dc71b-a334-45dd-bd4d-d24043012750",
   "metadata": {},
   "source": [
    "- 기존 코드에서 자기장이 경계면에 반사되어 간섭을 일으키는 문제 발생\n",
    "- 3가지 해결책\n",
    "    - PML\n",
    "    - Conductor\n",
    "    - Boundary에 있는 field 값을 초기값으로 고정\n",
    "- 이 중 3번째 방법을 위해 고정시킬 grid point들의 좌표를 구함\n",
    "- [Valid Node Coords](#Valid-Node-Coords)와 같은 방법으로 구하지만, 경계면도 포함해야 하며,\n",
    "- Z좌표의 최소, 최댓값을 갖는 부분도 포함한다."
   ]
  },
  {
   "cell_type": "markdown",
   "id": "1f960553-838f-4497-be51-4f87a00876dd",
   "metadata": {},
   "source": [
    "### Fiexd E field\n",
    "node에서 정의"
   ]
  },
  {
   "cell_type": "code",
   "execution_count": null,
   "id": "bbf3b12d-b90e-42b9-b7af-693467d198ba",
   "metadata": {
    "tags": []
   },
   "outputs": [],
   "source": [
    "fixed_node_mask = (dist_from_center <= r+3) | (dist_from_center >= R-2)\n",
    "\n",
    "fixed_node_coords_2d = node_coords[fixed_node_mask]\n",
    "fixed_node_coords_2d"
   ]
  },
  {
   "cell_type": "code",
   "execution_count": null,
   "id": "f3ff1b95-5ae8-411e-95b9-9e0fec61ee50",
   "metadata": {
    "tags": []
   },
   "outputs": [],
   "source": [
    "fixed_xy = set((x, y, z) for (x, y), z\n",
    "               in product(fixed_node_coords_2d,\n",
    "                          range(grid_shape[2])))\n",
    "fixed_z = set(product(range(grid_shape[0] + 1),\n",
    "                      range(grid_shape[1] + 1),\n",
    "                      (0, grid_shape[2])))  # lower and upper bound of z"
   ]
  },
  {
   "cell_type": "code",
   "execution_count": null,
   "id": "6fa6dd13-576d-421e-a1c5-ffccb608dfa2",
   "metadata": {
    "tags": []
   },
   "outputs": [],
   "source": [
    "fixed_node_coords = np.array(list(fixed_xy | fixed_z))\n",
    "np.save('constant_field_node_coords.npy', fixed_node_coords)"
   ]
  },
  {
   "cell_type": "markdown",
   "id": "f98aca85-60c7-4256-b612-f8f3175fa510",
   "metadata": {},
   "source": [
    "### Fixed B field\n",
    "cell center에서 정의   \n",
    "fixed_node_coords_2d로 모두 둘러싸인 cell을 fixed_center_coords_2d로 설정   \n",
    "z좌표 최소, 최댓값 포함"
   ]
  },
  {
   "cell_type": "code",
   "execution_count": null,
   "id": "905cd1d8-5532-4ebf-bf56-7cbe528702fd",
   "metadata": {
    "tags": []
   },
   "outputs": [],
   "source": [
    "fixed_cell_mask = np.empty(cell_coords.shape[0], dtype=bool)\n",
    "\n",
    "check_valid_cells(cell_coords, fixed_node_coords_2d, fixed_cell_mask)\n",
    "\n",
    "fixed_cell_coords_2d = cell_coords[fixed_cell_mask]"
   ]
  },
  {
   "cell_type": "code",
   "execution_count": null,
   "id": "d7956a60-2746-493a-b869-ccc10ada6127",
   "metadata": {
    "tags": []
   },
   "outputs": [],
   "source": [
    "fixed_xy = set((x, y, z) for (x, y), z\n",
    "               in product(fixed_cell_coords_2d,\n",
    "                          range(grid_shape[2])))\n",
    "fixed_z = set(product(range(grid_shape[0]),\n",
    "                      range(grid_shape[1]),\n",
    "                      (0, grid_shape[2]-1)))  # lower and upper bound of z"
   ]
  },
  {
   "cell_type": "code",
   "execution_count": null,
   "id": "e4900898-3bbc-4cb9-bc20-91720159ccd9",
   "metadata": {
    "tags": []
   },
   "outputs": [],
   "source": [
    "fixed_center_coords = np.array(list(fixed_xy | fixed_z))\n",
    "np.save('constant_field_center_coords.npy', fixed_center_coords)"
   ]
  },
  {
   "cell_type": "markdown",
   "id": "45d65e55-bc47-4883-a2fa-ad8fa4efc327",
   "metadata": {},
   "source": [
    "## Plot"
   ]
  },
  {
   "cell_type": "code",
   "execution_count": null,
   "id": "5663610f-4f36-4209-9931-bf7304373a5e",
   "metadata": {
    "tags": []
   },
   "outputs": [],
   "source": [
    "cell_coords[valid_cell_mask]"
   ]
  },
  {
   "cell_type": "code",
   "execution_count": null,
   "id": "8f11c8a0-b190-41b2-8894-18a8b794e5e1",
   "metadata": {
    "tags": []
   },
   "outputs": [],
   "source": [
    "import plotly.graph_objects as go\n",
    "\n",
    "fig = go.Figure(go.Scatter(\n",
    "    x=fixed_node_coords_2d[:, 0],\n",
    "    y=fixed_node_coords_2d[:, 1],\n",
    "    mode='markers',\n",
    "    opacity=0.5,\n",
    "    name='constant_field__node_coords'\n",
    "))\n",
    "\n",
    "fig.add_trace(go.Scatter(\n",
    "    x=cell_coords[valid_cell_mask][:, 0] + 0.5,\n",
    "    y=cell_coords[valid_cell_mask][:, 1] + 0.5,\n",
    "    mode='markers',\n",
    "    opacity=0.5,\n",
    "    name='valid_cell_coords'\n",
    "))\n",
    "\n",
    "fig.add_trace(go.Scatter(\n",
    "    x=fixed_cell_coords_2d[:, 0] + 0.5,\n",
    "    y=fixed_cell_coords_2d[:, 1] + 0.5,\n",
    "    mode='markers',\n",
    "    opacity=0.5,\n",
    "    name='constant_field_center_coords'\n",
    "))\n",
    "\n",
    "\n",
    "fig.update_layout(height=800, width=800)\n",
    "fig"
   ]
  },
  {
   "cell_type": "code",
   "execution_count": null,
   "id": "f14d9c46-3d42-41c7-ad58-054b1202adfa",
   "metadata": {},
   "outputs": [],
   "source": []
  }
 ],
 "metadata": {
  "kernelspec": {
   "display_name": "Python 3 (ipykernel)",
   "language": "python",
   "name": "python3"
  },
  "language_info": {
   "codemirror_mode": {
    "name": "ipython",
    "version": 3
   },
   "file_extension": ".py",
   "mimetype": "text/x-python",
   "name": "python",
   "nbconvert_exporter": "python",
   "pygments_lexer": "ipython3",
   "version": "3.9.15"
  }
 },
 "nbformat": 4,
 "nbformat_minor": 5
}
